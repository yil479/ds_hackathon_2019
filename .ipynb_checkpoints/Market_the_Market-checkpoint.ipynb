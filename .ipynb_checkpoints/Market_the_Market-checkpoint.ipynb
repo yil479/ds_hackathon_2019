{
 "cells": [
  {
   "cell_type": "code",
   "execution_count": 1,
   "metadata": {},
   "outputs": [],
   "source": [
    "import sklearn\n",
    "from sklearn.decomposition import PCA\n",
    "from sklearn.metrics import explained_variance_score\n",
    "\n",
    "import numpy as np\n",
    "import matplotlib.pyplot as plt\n",
    "\n",
    "import pandas as pd\n",
    "\n",
    "import random\n",
    "\n",
    "from sklearn import tree, linear_model, svm, neighbors, ensemble\n",
    "from sklearn.tree import ExtraTreeRegressor"
   ]
  },
  {
   "cell_type": "code",
   "execution_count": 2,
   "metadata": {},
   "outputs": [],
   "source": [
    "random.seed(0)"
   ]
  },
  {
   "cell_type": "code",
   "execution_count": 3,
   "metadata": {},
   "outputs": [],
   "source": [
    "def f(x1, x2):\n",
    "    y = 0.5 * np.sin(x1) + 0.5 * np.cos(x2)  + 0.1 * x1 + 3 \n",
    "    return y\n",
    "'''\n",
    "\n",
    "target: traffic\n",
    "input fields:\n",
    "- state\n",
    "- home_air_distance_kilometers_median\n",
    "- home_air_distance_kilometers_25th_pct\n",
    "- home_air_distance_75th_kilometers_pct\n",
    "- work_air_distance_kilometers_median\n",
    "- work_air_distance_25th_kilometers_pct\n",
    "- work_air_distance_75th_kilometers_pct\n",
    "- market_count_by_city\n",
    "- (optional) income / state <-> income / city\n",
    "'''\n",
    "def load_data(data_dir='final.csv', state_list=['CO','GA', 'TX']):\n",
    "    data = pd.read_csv(data_dir)\n",
    "    \n",
    "    # traffics\n",
    "    # normalize: 1/2000.\n",
    "    traffics = [tfs / 2000. for tfs in list(data.daily_traffic_avg)]\n",
    "    # states\n",
    "    # one-hot\n",
    "    code2state = {'TX' : [1, 0, 0], \n",
    "    'CO' : [0, 1, 0],\n",
    "    'GA' : [0, 0, 1]\n",
    "    }\n",
    "    states = [code2state[s] for s in list(data.state)]\n",
    "    \n",
    "    # daily_traffic_avg(city)\n",
    "    # normalize: 1/1000.\n",
    "    dtas = [dta/1000. for dta in list(data.daily_traffic_avg_avg)]\n",
    "    \n",
    "    \n",
    "    # distances(city)\n",
    "    # normalize: 1/10.\n",
    "    # home_air_distance_kilometers_median_avg\n",
    "    hadkmas = [dadkma/10. for dadkma in list(data.home_air_distance_kilometers_median)]\n",
    "    # home_air_distance_kilometers_25th_pct_avg\n",
    "    hadk25s = [dadk25/10. for dadk25 in list(data.home_air_distance_kilometers_25th_pct)]\n",
    "    # home_air_distance_75th_kilometers_pct_avg\n",
    "    hadk75s = [dadk75/10. for dadk75 in list(data.home_air_distance_75th_kilometers_pct)]\n",
    "    # work_air_distance_kilometers_median_avg\n",
    "    wadkmas = [wadkma/10. for wadkma in list(data.work_air_distance_kilometers_median)]\n",
    "    # work_air_distance_25th_kilometers_pct_avg\n",
    "    wadk25s = [wadk25/10. for wadk25 in list(data.work_air_distance_25th_kilometers_pct)]\n",
    "    # work_air_distance_75th_kilometers_pct_avg\n",
    "    wadk75s = [wadk75/10. for wadk75 in list(data.work_air_distance_75th_kilometers_pct)]\n",
    "    \n",
    "    # market count by city\n",
    "    # normalize: 1/10\n",
    "    mccs = [mcc / 10. for mcc in list(data.map_count_by_city)]\n",
    "    \n",
    "    # income \n",
    "    # normalize: 1/1000.\n",
    "    income_means = [income_mean / 1000. for income_mean in list(data.income_mean)]\n",
    "    income_medians = [income_median / 1000. for income_median in list(data.income_median)]\n",
    "    \n",
    "    # get candidate training data\n",
    "    train = []\n",
    "    for i in range(len(mccs)): \n",
    "        train.append(states[i] + [hadkmas[i], hadk25s[i], hadk75s[i], wadkmas[i], wadk25s[i], wadk75s[i], mccs[i], income_means[i], income_medians[i], traffics[i]])\n",
    "    \n",
    "    # randomly split the training data\n",
    "    # -> data_train, data_test\n",
    "    num_train = int(len(train) / 10. * 5.)\n",
    "    train_ids = random.sample(range(len(train)), num_train)\n",
    "    \n",
    "    data_train = []\n",
    "    data_test = []\n",
    "    for i in range(len(train)):\n",
    "        if i in train_ids:\n",
    "            data_train.append(train[i])\n",
    "        else:\n",
    "            data_test.append(train[i])\n",
    "    data_train = np.array(data_train)\n",
    "    data_test = np.array(data_test)\n",
    "    \n",
    "    return data_train, data_test"
   ]
  },
  {
   "cell_type": "code",
   "execution_count": 4,
   "metadata": {},
   "outputs": [
    {
     "name": "stdout",
     "output_type": "stream",
     "text": [
      "[9.55685731e-01 3.77134963e-02 5.22046766e-03 4.88954047e-04\n",
      " 3.04649101e-04 2.86801408e-04 1.39619605e-04 7.35682394e-05\n",
      " 4.49326009e-05 2.50870966e-05 1.32285212e-05 3.46428012e-06]\n",
      "[7.25728628e+02 2.86388747e+01 3.96431872e+00 3.71301923e-01\n",
      " 2.31344433e-01 2.17791252e-01 1.06024336e-01 5.58662494e-02\n",
      " 3.41209183e-02 1.90506394e-02 1.00454744e-02 2.63070503e-03]\n"
     ]
    }
   ],
   "source": [
    "train, test = load_data()\n",
    "x_train, y_train = train[:,:-1], train[:,-1] \n",
    "x_test ,y_test = test[:,:-1], test[:,-1] \n",
    "\n",
    "pca = PCA(n_components=12)\n",
    "pca.fit(train)\n",
    "\n",
    "\n",
    "print(pca.explained_variance_ratio_)\n",
    "print(pca.explained_variance_)\n"
   ]
  },
  {
   "cell_type": "code",
   "execution_count": 5,
   "metadata": {},
   "outputs": [],
   "source": [
    "def try_different_method(model):\n",
    "    model.fit(x_train,y_train)\n",
    "    #loss = model.loss(x_train, y_train)\n",
    "    score = model.score(x_test, y_test)\n",
    "    result = model.predict(x_test)\n",
    "    plt.figure()\n",
    "    plt.plot(np.arange(len(result)), y_test,'go-',label='true value')\n",
    "    plt.plot(np.arange(len(result)),result,'ro-',label='predict value')\n",
    "    plt.title('score: %f'%score)\n",
    "    plt.legend()\n",
    "    plt.savefig(\"pic.png\")\n",
    "    \n",
    "    return model"
   ]
  },
  {
   "cell_type": "code",
   "execution_count": 6,
   "metadata": {},
   "outputs": [],
   "source": [
    "\n",
    "model_DecisionTreeRegressor = tree.DecisionTreeRegressor()\n",
    "\n",
    "model_LinearRegression = linear_model.LinearRegression()\n",
    "\n",
    "model_SVR = svm.SVR()\n",
    "model_KNeighborsRegressor = neighbors.KNeighborsRegressor()\n",
    "\n",
    "model_RandomForestRegressor = ensemble.RandomForestRegressor(n_estimators=20)\n",
    "\n",
    "model_AdaBoostRegressor = ensemble.AdaBoostRegressor(n_estimators=50)\n",
    "\n",
    "model_GradientBoostingRegressor = ensemble.GradientBoostingRegressor(n_estimators=100)\n",
    "\n",
    "model_ExtraTreeRegressor = ExtraTreeRegressor()\n"
   ]
  },
  {
   "cell_type": "code",
   "execution_count": 7,
   "metadata": {},
   "outputs": [
    {
     "data": {
      "image/png": "[encoded data removed]",
      "text/plain": [
       "<Figure size 432x288 with 1 Axes>"
      ]
     },
     "metadata": {},
     "output_type": "display_data"
    }
   ],
   "source": [
    "model = try_different_method(model_GradientBoostingRegressor)\n",
    "#try_different_method(model_GradientBoostingRegressor)"
   ]
  },
  {
   "cell_type": "code",
   "execution_count": 8,
   "metadata": {},
   "outputs": [],
   "source": [
    "def get_daily_traffic_avg(model, state, hadkma=5., hadk25=3., hadk75=9., wadkma=8., wadk25=4., wadk75=15., mcc=2., income_mean=69768., income_median=96610.):\n",
    "    code2state = {'TX' : [1, 0, 0], \n",
    "    'CO' : [0, 1, 0],\n",
    "    'GA' : [0, 0, 1]\n",
    "    }\n",
    "    sample = np.array([code2state[state] + [hadkma, hadk25, hadk75, wadkma, wadk25, wadk75, mcc, income_mean, income_median]])\n",
    "    result = model.predict(sample)\n",
    "    print(int(result[0] * 2000))"
   ]
  },
  {
   "cell_type": "code",
   "execution_count": null,
   "metadata": {},
   "outputs": [],
   "source": [
    "state_code = input(\"Please Enter the State!\")\n",
    "while state_code not in ['TX', 'CO', 'GA']:\n",
    "    state_code = input(\"Please Enter a Valid State Code!\")"
   ]
  },
  {
   "cell_type": "code",
   "execution_count": null,
   "metadata": {},
   "outputs": [],
   "source": [
    "get_daily_traffic_avg(model, state_code)"
   ]
  },
  {
   "cell_type": "code",
   "execution_count": null,
   "metadata": {},
   "outputs": [],
   "source": []
  }
 ],
 "metadata": {
  "kernelspec": {
   "display_name": "Python 3",
   "language": "python",
   "name": "python3"
  },
  "language_info": {
   "codemirror_mode": {
    "name": "ipython",
    "version": 3
   },
   "file_extension": ".py",
   "mimetype": "text/x-python",
   "name": "python",
   "nbconvert_exporter": "python",
   "pygments_lexer": "ipython3",
   "version": "3.6.5"
  }
 },
 "nbformat": 4,
 "nbformat_minor": 2
}
